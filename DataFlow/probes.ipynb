{
 "cells": [
  {
   "cell_type": "code",
   "execution_count": 9,
   "id": "0a8c090e",
   "metadata": {},
   "outputs": [],
   "source": [
    "Grouped_data=('Bombero', ([{'evento_id': '51c57837', 'timestamp_evento': '2025-05-02 17:51:04', 'servicio': 'Bombero', 'tipo': 'Individual', 'discapacidad': 'Grado 2: Discapacidad leve', 'nivel_emergencia': 'Nivel 2: Emergencia moderada', 'lat': 39.465235, 'lon': -0.380162, 'edad': 56}, {'evento_id': 'af8c53ce', 'timestamp_evento': '2025-05-02 17:51:40', 'servicio': 'Bombero', 'tipo': 'Individual', 'discapacidad': 'Grado 1: Discapacidad nula', 'nivel_emergencia': 'Nivel 3: Emergencia grave', 'lat': 39.475542, 'lon': -0.394527, 'edad': 77}, {'evento_id': '90a17027', 'timestamp_evento': '2025-05-02 17:51:50', 'servicio': 'Bombero', 'tipo': 'Individual', 'discapacidad': 'Grado 4: Discapacidad grave', 'nivel_emergencia': 'Nivel 2: Emergencia moderada', 'lat': 39.482211, 'lon': -0.418151, 'edad': 17}, {'evento_id': '01991477', 'timestamp_evento': '2025-05-02 17:51:29', 'servicio': 'Bombero', 'tipo': 'Colectiva', 'discapacidad': 'Grado 5: Discapacidad muy grave', 'nivel_emergencia': 'Nivel 1: Emergencia leve', 'lat': 39.439647, 'lon': -0.41478}, {'evento_id': 'bce6f58f', 'timestamp_evento': '2025-05-02 17:51:24', 'servicio': 'Bombero', 'tipo': 'Individual', 'discapacidad': 'Grado 4: Discapacidad grave', 'nivel_emergencia': 'Nivel 3: Emergencia grave', 'lat': 39.484957, 'lon': -0.340855, 'edad': 17}], [{'recurso_id': 31, 'servicio': 'Bombero', 'latitud': 39.455763, 'longitud': -0.37434, 'timestamp_ubicacion': '2025-05-02 17:52:06'}, {'recurso_id': 25, 'servicio': 'Bombero', 'latitud': 36.455763, 'longitud': -0.57434, 'timestamp_ubicacion': '2025-05-02 17:50:06'}]))"
   ]
  },
  {
   "cell_type": "code",
   "execution_count": 4,
   "id": "d377134c",
   "metadata": {},
   "outputs": [],
   "source": [
    "import apache_beam as beam\n",
    "import math\n",
    "import logging\n",
    "from datetime import timedelta, timezone\n",
    "import datetime\n",
    "\n",
    "logging.basicConfig(level=logging.INFO, format=\"%(message)s\")\n",
    "\n",
    "logging.getLogger(\"apache_beam\").setLevel(logging.WARNING)"
   ]
  },
  {
   "cell_type": "code",
   "execution_count": 12,
   "id": "e6c87b3e",
   "metadata": {},
   "outputs": [
    {
     "name": "stderr",
     "output_type": "stream",
     "text": [
      "Bomberos: ([{'recurso_id': 31, 'servicio': 'Bombero', 'latitud': 39.455763, 'longitud': -0.37434, 'timestamp_ubicacion': '2025-05-02 17:52:06'}, {'recurso_id': 25, 'servicio': 'Bombero', 'latitud': 36.455763, 'longitud': -0.57434, 'timestamp_ubicacion': '2025-05-02 17:50:06'}], [{'evento_id': '51c57837', 'timestamp_evento': '2025-05-02 17:51:04', 'servicio': 'Bombero', 'tipo': 'Individual', 'discapacidad': 'Grado 2: Discapacidad leve', 'nivel_emergencia': 'Nivel 2: Emergencia moderada', 'lat': 39.465235, 'lon': -0.380162, 'edad': 56, 'coeficientes': [0.2502, 0.25]}, {'evento_id': 'af8c53ce', 'timestamp_evento': '2025-05-02 17:51:40', 'servicio': 'Bombero', 'tipo': 'Individual', 'discapacidad': 'Grado 1: Discapacidad nula', 'nivel_emergencia': 'Nivel 3: Emergencia grave', 'lat': 39.475542, 'lon': -0.394527, 'edad': 77, 'coeficientes': [0.4201, 0.42]}, {'evento_id': '90a17027', 'timestamp_evento': '2025-05-02 17:51:50', 'servicio': 'Bombero', 'tipo': 'Individual', 'discapacidad': 'Grado 4: Discapacidad grave', 'nivel_emergencia': 'Nivel 2: Emergencia moderada', 'lat': 39.482211, 'lon': -0.418151, 'edad': 17, 'coeficientes': [0.3501, 0.35]}, {'evento_id': '01991477', 'timestamp_evento': '2025-05-02 17:51:29', 'servicio': 'Bombero', 'tipo': 'Colectiva', 'discapacidad': 'Grado 5: Discapacidad muy grave', 'nivel_emergencia': 'Nivel 1: Emergencia leve', 'lat': 39.439647, 'lon': -0.41478, 'coeficientes': [0.4801, 0.48]}, {'evento_id': 'bce6f58f', 'timestamp_evento': '2025-05-02 17:51:24', 'servicio': 'Bombero', 'tipo': 'Individual', 'discapacidad': 'Grado 4: Discapacidad grave', 'nivel_emergencia': 'Nivel 3: Emergencia grave', 'lat': 39.484957, 'lon': -0.340855, 'edad': 17, 'coeficientes': [0.4701, 0.47]}])\n"
     ]
    }
   ],
   "source": [
    "def calculo_coeficiente(vehiculo, emergencia):\n",
    "    servicio = emergencia[\"servicio\"]\n",
    "    tipo_emergencia = emergencia[\"tipo\"]\n",
    "    edad=emergencia.get(\"edad\", 0)\n",
    "    discapacidad=emergencia[\"discapacidad\"]\n",
    "    nivel_emergencia=emergencia[\"nivel_emergencia\"]\n",
    "    latitud_emergencia=emergencia[\"lat\"]\n",
    "    longitud_emergencia=emergencia[\"lon\"]\n",
    "    latitud_vehiculo=vehiculo[\"latitud\"]\n",
    "    longitud_vehiculo=vehiculo[\"longitud\"]\n",
    "\n",
    "    if tipo_emergencia == \"Individual\":\n",
    "        tipo_score = 0\n",
    "        if edad < 10:\n",
    "            tipo_score = 0.5\n",
    "        elif edad > 70:\n",
    "            tipo_score = 0.5\n",
    "    elif tipo_emergencia == \"Colectiva\":\n",
    "        tipo_score = 1.0\n",
    "    \n",
    "    if discapacidad == \"Grado 1: Discapacidad nula\":\n",
    "        disc_score= 0.0\n",
    "    elif discapacidad == \"Grado 2: Discapacidad leve\":\n",
    "        disc_score= 0.2\n",
    "    elif discapacidad == \"Grado 3: Discapacidad moderada\":\n",
    "        disc_score= 0.4\n",
    "    elif discapacidad == \"Grado 4: Discapacidad grave\":\n",
    "        disc_score= 0.6\n",
    "    elif discapacidad == \"Grado 5: Discapacidad muy grave\":\n",
    "        disc_score= 0.8\n",
    "\n",
    "    if nivel_emergencia == \"Nivel 1: Emergencia leve\":\n",
    "        nivel_score= 0.2\n",
    "        tiempo_total= 30\n",
    "    elif nivel_emergencia == \"Nivel 2: Emergencia moderada\":\n",
    "        nivel_score= 0.5\n",
    "        tiempo_total= 60\n",
    "    elif nivel_emergencia == \"Nivel 3: Emergencia grave\":\n",
    "        nivel_score= 0.8\n",
    "        tiempo_total= 120\n",
    "\n",
    "    delta_lat = latitud_emergencia - latitud_vehiculo\n",
    "    delta_lon = longitud_emergencia - longitud_vehiculo\n",
    "    lat_prom = (latitud_vehiculo + latitud_emergencia) / 2\n",
    "\n",
    "    # Aprox. metros por grado\n",
    "    metros_lat = delta_lat * 111_000\n",
    "    metros_lon = delta_lon * 111_000 * math.cos(math.radians(lat_prom))\n",
    "\n",
    "    distancia_metros = (metros_lat**2 + metros_lon**2) ** 0.5        \n",
    "    distancia_score = 1 / (1 + distancia_metros)\n",
    "    \n",
    "    if servicio == \"Policia\":\n",
    "        tiempo_respuesta =  distancia_metros / 15*60  # Velocidad promedio de un vehículo de policia en m/s, pasado a minutos\n",
    "    else:\n",
    "        tiempo_respuesta =  distancia_metros / 11*60  # Velocidad promedio de un vehículo de bomberos o ambulancia en m/s, pasado a minutos\n",
    "\n",
    "    tiempo_total+=tiempo_respuesta\n",
    "    \n",
    "\n",
    "    pesos = {\n",
    "        \"tipo\": 0.2,\n",
    "        \"discapacidad\": 0.25,\n",
    "        \"nivel\": 0.4,\n",
    "        \"distancia\": 0.25\n",
    "    }\n",
    "\n",
    "    # --- Cálculo del coeficiente ponderado ---\n",
    "    coeficiente = (\n",
    "        tipo_score * pesos[\"tipo\"] +\n",
    "        disc_score * pesos[\"discapacidad\"] +\n",
    "        nivel_score * pesos[\"nivel\"] +\n",
    "        distancia_score * pesos[\"distancia\"]\n",
    "    )\n",
    "\n",
    "    return round(coeficiente, 4), tiempo_respuesta, tiempo_total, distancia_metros\n",
    "\n",
    "\n",
    "\n",
    "\n",
    "clave, (emergencias, vehiculos) = Grouped_data\n",
    "for i, emergencia in enumerate(emergencias):\n",
    "    coeficinetes_lista = []\n",
    "    for vehiculo in vehiculos:\n",
    "        coficiente = calculo_coeficiente(vehiculo, emergencia)[0]\n",
    "        coeficinetes_lista.append(coficiente)\n",
    "    emergencia[\"coeficientes\"]=coeficinetes_lista\n",
    "\n",
    "if clave == \"Bombero\":\n",
    "    logging.info(f\"Bomberos: ({vehiculos}, {emergencias})\")\n"
   ]
  },
  {
   "cell_type": "code",
   "execution_count": 15,
   "id": "a11aff92",
   "metadata": {},
   "outputs": [],
   "source": [
    "mensaje=([{'recurso_id': 31, 'servicio': 'Bombero', 'latitud': 39.455763, 'longitud': -0.37434, 'timestamp_ubicacion': '2025-05-02 17:52:06'}, {'recurso_id': 25, 'servicio': 'Bombero', 'latitud': 36.455763, 'longitud': -0.57434, 'timestamp_ubicacion': '2025-05-02 17:50:06'}], [{'evento_id': '51c57837', 'timestamp_evento': '2025-05-02 17:51:04', 'servicio': 'Bombero', 'tipo': 'Individual', 'discapacidad': 'Grado 2: Discapacidad leve', 'nivel_emergencia': 'Nivel 2: Emergencia moderada', 'lat': 39.465235, 'lon': -0.380162, 'edad': 56, 'coeficientes': [0.2502, 0.25]}, {'evento_id': 'af8c53ce', 'timestamp_evento': '2025-05-02 17:51:40', 'servicio': 'Bombero', 'tipo': 'Individual', 'discapacidad': 'Grado 1: Discapacidad nula', 'nivel_emergencia': 'Nivel 3: Emergencia grave', 'lat': 39.475542, 'lon': -0.394527, 'edad': 77, 'coeficientes': [0.4201, 0.42]}, {'evento_id': '90a17027', 'timestamp_evento': '2025-05-02 17:51:50', 'servicio': 'Bombero', 'tipo': 'Individual', 'discapacidad': 'Grado 4: Discapacidad grave', 'nivel_emergencia': 'Nivel 2: Emergencia moderada', 'lat': 39.482211, 'lon': -0.418151, 'edad': 17, 'coeficientes': [0.3501, 0.35]}, {'evento_id': '01991477', 'timestamp_evento': '2025-05-02 17:51:29', 'servicio': 'Bombero', 'tipo': 'Colectiva', 'discapacidad': 'Grado 5: Discapacidad muy grave', 'nivel_emergencia': 'Nivel 1: Emergencia leve', 'lat': 39.439647, 'lon': -0.41478, 'coeficientes': [0.4801, 0.48]}, {'evento_id': 'bce6f58f', 'timestamp_evento': '2025-05-02 17:51:24', 'servicio': 'Bombero', 'tipo': 'Individual', 'discapacidad': 'Grado 4: Discapacidad grave', 'nivel_emergencia': 'Nivel 3: Emergencia grave', 'lat': 39.484957, 'lon': -0.340855, 'edad': 17, 'coeficientes': [0.4701, 0.47]}])"
   ]
  },
  {
   "cell_type": "code",
   "execution_count": null,
   "id": "8f6edb33",
   "metadata": {},
   "outputs": [
    {
     "name": "stderr",
     "output_type": "stream",
     "text": [
      "Emparejamiento: {'recurso_id': 31, 'servicio': 'Bombero', 'latitud': 39.455763, 'longitud': -0.37434, 'timestamp_ubicacion': '2025-05-02 17:52:06'} - {'evento_id': '01991477', 'timestamp_evento': '2025-05-02 17:51:29', 'servicio': 'Bombero', 'tipo': 'Colectiva', 'discapacidad': 'Grado 5: Discapacidad muy grave', 'nivel_emergencia': 'Nivel 1: Emergencia leve', 'lat': 39.439647, 'lon': -0.41478, 'coeficientes': [0.4801, 0.48], 'coeficiente_seleccionado': 0.4801, 'tiempo_total': 21306.461252576115, 'tiempo_respuesta': 21276.461252576115, 'distancia_recorrida': 3900.684562972288, 'disponible_en': datetime.datetime(2025, 5, 17, 15, 25, 59, 328805)}\n",
      "Emparejamiento: {'recurso_id': 25, 'servicio': 'Bombero', 'latitud': 36.455763, 'longitud': -0.57434, 'timestamp_ubicacion': '2025-05-02 17:50:06'} - {'evento_id': 'bce6f58f', 'timestamp_evento': '2025-05-02 17:51:24', 'servicio': 'Bombero', 'tipo': 'Individual', 'discapacidad': 'Grado 4: Discapacidad grave', 'nivel_emergencia': 'Nivel 3: Emergencia grave', 'lat': 39.484957, 'lon': -0.340855, 'edad': 17, 'coeficientes': [0.4701, 0.47], 'coeficiente_seleccionado': 0.47, 'tiempo_total': 1837541.9280022841, 'tiempo_respuesta': 1837421.9280022841, 'distancia_recorrida': 336860.68680041877, 'disponible_en': datetime.datetime(2028, 10, 29, 22, 1, 27, 334855)}\n"
     ]
    }
   ],
   "source": [
    "vehiculos, emergencias = mensaje\n",
    "match_list_emergencias_id = []\n",
    "match_list_vehiculos_id = []\n",
    "\n",
    "while True:\n",
    "    max_total = -1\n",
    "    mejor_emergencia = None\n",
    "    mejor_vehiculo = None\n",
    "    i_emergencia = -1\n",
    "    i_vehiculo = -1\n",
    "\n",
    "    for idx_e, emergencia in enumerate(emergencias):\n",
    "        if emergencia[\"evento_id\"] in match_list_emergencias_id:\n",
    "            continue\n",
    "\n",
    "        for idx_v, vehiculo in enumerate(vehiculos):\n",
    "            if vehiculo[\"recurso_id\"] in match_list_vehiculos_id:\n",
    "                continue\n",
    "\n",
    "            coef = emergencia[\"coeficientes\"][idx_v]\n",
    "            if coef > max_total:\n",
    "                max_total = coef\n",
    "                mejor_emergencia = emergencia\n",
    "                mejor_vehiculo = vehiculo\n",
    "                i_emergencia = idx_e\n",
    "                i_vehiculo = idx_v\n",
    "\n",
    "    if mejor_emergencia is None or mejor_vehiculo is None:\n",
    "        break  # Ya no hay emparejamientos posibles\n",
    "\n",
    "    # Añadir información al match\n",
    "    mejor_emergencia[\"coeficiente_seleccionado\"] = max_total\n",
    "    tiempo_dist = calculo_coeficiente(mejor_vehiculo, mejor_emergencia)\n",
    "    mejor_emergencia[\"tiempo_total\"] = tiempo_dist[2]\n",
    "    mejor_emergencia[\"tiempo_respuesta\"] = tiempo_dist[1]\n",
    "    mejor_emergencia[\"distancia_recorrida\"] = tiempo_dist[3]\n",
    "    mejor_emergencia[\"disponible_en\"] = datetime.now() + timedelta(minutes=mejor_emergencia[\"tiempo_total\"])\n",
    "\n",
    "    match_list_emergencias_id.append(mejor_emergencia[\"evento_id\"])\n",
    "    match_list_vehiculos_id.append(mejor_vehiculo[\"recurso_id\"])\n",
    "\n",
    "    yield beam.pvalue.TaggedOutput(\"Match\", (mejor_vehiculo, mejor_emergencia))\n",
    "\n",
    "# Emitir emergencias sin emparejar\n",
    "for emergencia in emergencias:\n",
    "    if emergencia[\"evento_id\"] not in match_list_emergencias_id:\n",
    "        yield beam.pvalue.TaggedOutput(\"NoMatch\", emergencia)\n"
   ]
  },
  {
   "cell_type": "code",
   "execution_count": 5,
   "id": "ceb6d5a2",
   "metadata": {},
   "outputs": [],
   "source": [
    "all_matches=({'recurso_id': 10, 'servicio': 'Policia', 'latitud': 39.466656, 'longitud': -0.377494, 'timestamp_ubicacion': '2025-05-03 09:09:23'}, {'evento_id': '94329002', 'timestamp_evento': '2025-05-03 09:09:22', 'servicio': 'Policia', 'tipo': 'Colectiva', 'discapacidad': 'Grado 4: Discapacidad grave', 'nivel_emergencia': 'Nivel 2: Emergencia moderada', 'lat': 39.448407, 'lon': -0.341567, 'coeficientes': [0.5501, 0.5501], 'coeficiente_seleccionado': 0.5501, 'tiempo_total': 14802.42456590604, 'tiempo_respuesta': 14742.42456590604, 'distancia_recorrida': 3685.60614147651, 'disponible_en': datetime.datetime(2025, 5, 3, 9, 41, 43, 812977)})"
   ]
  },
  {
   "cell_type": "code",
   "execution_count": 9,
   "id": "3dabe840",
   "metadata": {},
   "outputs": [],
   "source": [
    "\n",
    "from apache_beam.coders import StrUtf8Coder\n",
    "from apache_beam.transforms.userstate import BagStateSpec, TimerSpec, on_timer\n",
    "from apache_beam.transforms.timeutil import TimeDomain\n",
    "import typing\n",
    "BUFFER_STATE=BagStateSpec('buffer', beam.coders.StrUtf8Coder())\n",
    "EXPIRY_TIMER=TimerSpec('expiry', TimeDomain.WATERMARK)\n",
    "\n",
    "def process(\n",
    "            element: typing.Tuple[int, datetime],\n",
    "            buffer_state=beam.DoFn.StateParam(BUFFER_STATE),\n",
    "            expiry_timer=beam.DoFn.TimerParam(EXPIRY_TIMER)):\n",
    "    recurso_id, tiempo = element\n",
    "    buffer_state.add(str(recurso_id))\n",
    "    if tiempo.tzinfo is None:\n",
    "        tiempo = tiempo.replace(tzinfo=timezone.utc)\n",
    "    expiry_timer.set(tiempo)\n",
    "@on_timer(EXPIRY_TIMER)\n",
    "def expiry(self, buffer_state=beam.DoFn.StateParam(BUFFER_STATE)):\n",
    "    vehiculos_ids = buffer_state.read()\n",
    "    logging.info(f\"Vehiculos a liberar: {vehiculos_ids}\")\n",
    "    for vehiculo_id in vehiculos_ids:\n",
    "        self.liberar_recurso(int(vehiculo_id))\n",
    "    buffer_state.clear()\n",
    "\n",
    "\n",
    "\n",
    "    # def liberar_recurso(self, vehiculo_id: str):\n",
    "    #     try:\n",
    "    #         connector = Connector()\n",
    "    #         conn = connector.connect(\n",
    "    #             \"splendid-strand-452918-e6:europe-southwest1:recursos\",\n",
    "    #             \"pg8000\",\n",
    "    #             user=DB_CONFIG['user'],\n",
    "    #             password=DB_CONFIG['password'],\n",
    "    #             db=DB_CONFIG['dbname'],\n",
    "    #         )\n",
    "    #         cur = conn.cursor()\n",
    "    #         cur.execute(\"UPDATE recursos SET asignado = FALSE WHERE recurso_id = %s;\", (vehiculo_id,))\n",
    "    #         cur.close()\n",
    "    #         conn.close()\n",
    "    #     except Exception as e:\n",
    "    #         logging.error(f\"Error al liberar el recurso_id {vehiculo_id}: {e}\")"
   ]
  },
  {
   "cell_type": "code",
   "execution_count": 12,
   "id": "68594c85",
   "metadata": {},
   "outputs": [
    {
     "ename": "AttributeError",
     "evalue": "'_StateDoFnParam' object has no attribute 'add'",
     "output_type": "error",
     "traceback": [
      "\u001b[31m---------------------------------------------------------------------------\u001b[39m",
      "\u001b[31mAttributeError\u001b[39m                            Traceback (most recent call last)",
      "\u001b[36mCell\u001b[39m\u001b[36m \u001b[39m\u001b[32mIn[12]\u001b[39m\u001b[32m, line 2\u001b[39m\n\u001b[32m      1\u001b[39m matches_clave = (all_matches[\u001b[32m0\u001b[39m][\u001b[33m\"\u001b[39m\u001b[33mrecurso_id\u001b[39m\u001b[33m\"\u001b[39m], all_matches[\u001b[32m1\u001b[39m][\u001b[33m\"\u001b[39m\u001b[33mdisponible_en\u001b[39m\u001b[33m\"\u001b[39m])\n\u001b[32m----> \u001b[39m\u001b[32m2\u001b[39m \u001b[43mprocess\u001b[49m\u001b[43m(\u001b[49m\u001b[43mmatches_clave\u001b[49m\u001b[43m)\u001b[49m\n",
      "\u001b[36mCell\u001b[39m\u001b[36m \u001b[39m\u001b[32mIn[9]\u001b[39m\u001b[32m, line 13\u001b[39m, in \u001b[36mprocess\u001b[39m\u001b[34m(element, buffer_state, expiry_timer)\u001b[39m\n\u001b[32m      8\u001b[39m \u001b[38;5;28;01mdef\u001b[39;00m\u001b[38;5;250m \u001b[39m\u001b[34mprocess\u001b[39m(\n\u001b[32m      9\u001b[39m             element: typing.Tuple[\u001b[38;5;28mint\u001b[39m, datetime],\n\u001b[32m     10\u001b[39m             buffer_state=beam.DoFn.StateParam(BUFFER_STATE),\n\u001b[32m     11\u001b[39m             expiry_timer=beam.DoFn.TimerParam(EXPIRY_TIMER)):\n\u001b[32m     12\u001b[39m     recurso_id, tiempo = element\n\u001b[32m---> \u001b[39m\u001b[32m13\u001b[39m     \u001b[43mbuffer_state\u001b[49m\u001b[43m.\u001b[49m\u001b[43madd\u001b[49m(\u001b[38;5;28mstr\u001b[39m(recurso_id))\n\u001b[32m     14\u001b[39m     \u001b[38;5;28;01mif\u001b[39;00m tiempo.tzinfo \u001b[38;5;129;01mis\u001b[39;00m \u001b[38;5;28;01mNone\u001b[39;00m:\n\u001b[32m     15\u001b[39m         tiempo = tiempo.replace(tzinfo=timezone.utc)\n",
      "\u001b[31mAttributeError\u001b[39m: '_StateDoFnParam' object has no attribute 'add'"
     ]
    }
   ],
   "source": [
    "matches_clave = (all_matches[0][\"recurso_id\"], all_matches[1][\"disponible_en\"])\n",
    "process(matches_clave)"
   ]
  },
  {
   "cell_type": "code",
   "execution_count": null,
   "id": "93694e0c",
   "metadata": {},
   "outputs": [],
   "source": []
  }
 ],
 "metadata": {
  "kernelspec": {
   "display_name": "venv",
   "language": "python",
   "name": "python3"
  },
  "language_info": {
   "codemirror_mode": {
    "name": "ipython",
    "version": 3
   },
   "file_extension": ".py",
   "mimetype": "text/x-python",
   "name": "python",
   "nbconvert_exporter": "python",
   "pygments_lexer": "ipython3",
   "version": "3.12.6"
  }
 },
 "nbformat": 4,
 "nbformat_minor": 5
}
